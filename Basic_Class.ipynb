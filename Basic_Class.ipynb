{
  "nbformat": 4,
  "nbformat_minor": 0,
  "metadata": {
    "colab": {
      "provenance": [],
      "authorship_tag": "ABX9TyPIgu5u2IneN+82Vwq5RQdl",
      "include_colab_link": true
    },
    "kernelspec": {
      "name": "python3",
      "display_name": "Python 3"
    },
    "language_info": {
      "name": "python"
    }
  },
  "cells": [
    {
      "cell_type": "markdown",
      "metadata": {
        "id": "view-in-github",
        "colab_type": "text"
      },
      "source": [
        "<a href=\"https://colab.research.google.com/github/Vigneshprabhu078/Data-Collection-and-Pre_Processing/blob/main/Basic_Class.ipynb\" target=\"_parent\"><img src=\"https://colab.research.google.com/assets/colab-badge.svg\" alt=\"Open In Colab\"/></a>"
      ]
    },
    {
      "cell_type": "code",
      "source": [
        "class PersonList:\n",
        "    def __init__(self):\n",
        "\n",
        "        self.names = []\n",
        "\n",
        "    def add_name(self, name):\n",
        "\n",
        "        self.names.append(name)\n",
        "        print(f\"{name} has been added.\")\n",
        "\n",
        "    def remove_name(self, name):\n",
        "\n",
        "        if name in self.names:\n",
        "            self.names.remove(name)\n",
        "            print(f\"{name} has been removed.\")\n",
        "        else:\n",
        "            print(f\"{name} not found in the list.\")\n",
        "\n",
        "    def view_names(self):\n",
        "\n",
        "        if self.names:\n",
        "            print(\"Current list of names:\")\n",
        "            for name in self.names:\n",
        "                print(f\"- {name}\")\n",
        "        else:\n",
        "            print(\"The list is empty.\")\n",
        "\n",
        "\n",
        "people = PersonList()\n",
        "people.add_name(\"vignesh\")\n",
        "people.add_name(\"Dhanasekar\")\n",
        "people.view_names()\n",
        "people.remove_name(\"vignesh\")\n",
        "people.view_names()\n"
      ],
      "metadata": {
        "colab": {
          "base_uri": "https://localhost:8080/"
        },
        "id": "QkCOfa83oZ1n",
        "outputId": "1b1738ee-f27e-43f3-ab61-0c40d7463f00"
      },
      "execution_count": 28,
      "outputs": [
        {
          "output_type": "stream",
          "name": "stdout",
          "text": [
            "vignesh has been added.\n",
            "Dhanasekar has been added.\n",
            "Current list of names:\n",
            "- vignesh\n",
            "- Dhanasekar\n",
            "vignesh has been removed.\n",
            "Current list of names:\n",
            "- Dhanasekar\n"
          ]
        }
      ]
    }
  ]
}